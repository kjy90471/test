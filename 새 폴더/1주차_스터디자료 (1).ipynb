{
 "cells": [
  {
   "cell_type": "markdown",
   "id": "15523389-e574-42a3-b55b-5ce01baa5b9b",
   "metadata": {},
   "source": [
    "## Hello World 문자열을 출력하세요."
   ]
  },
  {
   "cell_type": "code",
   "execution_count": 1,
   "id": "fae3f27e-1c06-4009-870d-29c68ecc0d61",
   "metadata": {},
   "outputs": [
    {
     "name": "stdout",
     "output_type": "stream",
     "text": [
      "Hello World\n"
     ]
    }
   ],
   "source": [
    "#여기에\n",
    "print(\"Hello World\")"
   ]
  },
  {
   "cell_type": "markdown",
   "id": "1caa0d9a-fa78-444a-a75b-f619324cd8b4",
   "metadata": {},
   "source": [
    "## 숫자 3을 출력하세요."
   ]
  },
  {
   "cell_type": "code",
   "execution_count": 1,
   "id": "c5e382fc-be1f-410a-a883-33e136a92e47",
   "metadata": {},
   "outputs": [
    {
     "name": "stdout",
     "output_type": "stream",
     "text": [
      "3\n"
     ]
    }
   ],
   "source": [
    "#여기에\n",
    "print(3)"
   ]
  },
  {
   "cell_type": "markdown",
   "id": "ba89d31d-495d-4350-a48c-ab076edfe982",
   "metadata": {},
   "source": [
    "# 아래 문자열에서 'P'를 출력하세요.\n",
    "word = \"Python\"\n"
   ]
  },
  {
   "cell_type": "code",
   "execution_count": 6,
   "id": "efffeb80-ffba-4b54-89ce-6826682f3017",
   "metadata": {},
   "outputs": [
    {
     "name": "stdout",
     "output_type": "stream",
     "text": [
      "P\n"
     ]
    }
   ],
   "source": [
    "#여기에\n",
    "word = \"Python\"\n",
    "a = word[0]\n",
    "print(a)"
   ]
  },
  {
   "cell_type": "markdown",
   "id": "ca9eb30c-6ae6-49de-b7e2-2ee72e452cea",
   "metadata": {},
   "source": [
    "# name과 age 변수를 사용하여 \"My name is John and I am 25 years old.\"을 출력하세요.\n",
    "name = \"John\"\n",
    "age = 25\n"
   ]
  },
  {
   "cell_type": "code",
   "execution_count": 7,
   "id": "6c558e77-7605-432e-9b52-02b30ed55c5f",
   "metadata": {},
   "outputs": [
    {
     "name": "stdout",
     "output_type": "stream",
     "text": [
      "My name is John and I am 25 years old.\n"
     ]
    }
   ],
   "source": [
    "#여기에\n",
    "name = \"John\"\n",
    "age = 25\n",
    "print(\"My name is\", name, \"and I am\", age, \"years old.\")"
   ]
  },
  {
   "cell_type": "markdown",
   "id": "a06d6e77-d062-472d-8c7c-b305ecfe13dd",
   "metadata": {},
   "source": [
    "# 아래 문자열을 공백을 기준으로 나누어 리스트로 변환하세요.\n",
    "sentence = \"Python is a powerful programming language\"\n"
   ]
  },
  {
   "cell_type": "code",
   "execution_count": 8,
   "id": "b1ce9d66-600d-47c4-9273-d61f093be4b2",
   "metadata": {},
   "outputs": [
    {
     "data": {
      "text/plain": [
       "['Python', 'is', 'a', 'powerful', 'programming', 'language']"
      ]
     },
     "execution_count": 8,
     "metadata": {},
     "output_type": "execute_result"
    }
   ],
   "source": [
    "#여기에\n",
    "sentence = \"Python is a powerful programming language\"\n",
    "sentence.split()"
   ]
  },
  {
   "cell_type": "markdown",
   "id": "d7962387-4807-4255-91e1-0a2a3f32cabc",
   "metadata": {},
   "source": [
    "# 아래 문자열에서 \"Hello\"만 출력하세요.(슬라이싱 활용)\n",
    "sentence = \"Hello, world!\"\n"
   ]
  },
  {
   "cell_type": "code",
   "execution_count": 10,
   "id": "5c9fbd99-ff59-422b-92f2-d15df51cd664",
   "metadata": {},
   "outputs": [
    {
     "data": {
      "text/plain": [
       "'Hello'"
      ]
     },
     "execution_count": 10,
     "metadata": {},
     "output_type": "execute_result"
    }
   ],
   "source": [
    "#여기\n",
    "sentence = \"Hello, world!\"\n",
    "sentence[0:5]"
   ]
  },
  {
   "cell_type": "markdown",
   "id": "0df9d70f-f137-4c60-b600-dd0809f74d5b",
   "metadata": {},
   "source": [
    "# 아래 문자열의 왼쪽 공백을 제거하세요.\n",
    "text = \"   Python is awesome!\"\n"
   ]
  },
  {
   "cell_type": "code",
   "execution_count": 11,
   "id": "95633f8d-0a7a-4776-a83e-d749b106c9a3",
   "metadata": {},
   "outputs": [
    {
     "data": {
      "text/plain": [
       "'Python is awesome!'"
      ]
     },
     "execution_count": 11,
     "metadata": {},
     "output_type": "execute_result"
    }
   ],
   "source": [
    "#여기에\n",
    "text = \" Python is awesome!\"\n",
    "text.lstrip()"
   ]
  },
  {
   "cell_type": "markdown",
   "id": "bf45943b-8fc3-43ac-b860-664060968a2a",
   "metadata": {},
   "source": [
    "# 정수 10을 변수 num에 저장하세요.\n"
   ]
  },
  {
   "cell_type": "code",
   "execution_count": 13,
   "id": "8bb46257-f806-4b55-81a8-d4f3203d0eae",
   "metadata": {},
   "outputs": [
    {
     "data": {
      "text/plain": [
       "10"
      ]
     },
     "execution_count": 13,
     "metadata": {},
     "output_type": "execute_result"
    }
   ],
   "source": [
    "#여기\n",
    "num = 10\n",
    "num"
   ]
  },
  {
   "cell_type": "markdown",
   "id": "6f416f7a-ebf7-4e57-b03b-562e13c3cdb1",
   "metadata": {},
   "source": [
    "# 변수 x에서 y를 뺀 결과를 출력하세요.\n",
    "x = 50\n",
    "y = 23\n"
   ]
  },
  {
   "cell_type": "code",
   "execution_count": 14,
   "id": "f7f921b5-58c6-4614-ad24-e276aa79c90e",
   "metadata": {},
   "outputs": [
    {
     "name": "stdout",
     "output_type": "stream",
     "text": [
      "27\n"
     ]
    }
   ],
   "source": [
    "#여기에\n",
    "x = 50\n",
    "y = 23\n",
    "print(x-y)"
   ]
  },
  {
   "cell_type": "markdown",
   "id": "d7df0e1f-9551-40a6-8d85-87ffca9f172b",
   "metadata": {},
   "source": [
    "# 변수 num1을 num2로 나눈 결과를 출력하세요.\n",
    "num1 = 25\n",
    "num2 = 4\n"
   ]
  },
  {
   "cell_type": "code",
   "execution_count": 16,
   "id": "076533e5-b23e-432b-bd92-448fee42f82b",
   "metadata": {},
   "outputs": [
    {
     "name": "stdout",
     "output_type": "stream",
     "text": [
      "6.25\n"
     ]
    }
   ],
   "source": [
    "#여기에\n",
    "num1 = 25 \n",
    "num2 = 4\n",
    "print(num1/num2)"
   ]
  },
  {
   "cell_type": "markdown",
   "id": "893f056e-a9ce-4048-8d59-01eb423b7c1c",
   "metadata": {},
   "source": [
    "# 2의 5제곱을 계산하여 출력하세요.\n"
   ]
  },
  {
   "cell_type": "code",
   "execution_count": 17,
   "id": "8ab46c87-0a82-49b2-8819-c3b788bebcba",
   "metadata": {},
   "outputs": [
    {
     "name": "stdout",
     "output_type": "stream",
     "text": [
      "32\n"
     ]
    }
   ],
   "source": [
    "#여기에\n",
    "print(2**5)"
   ]
  },
  {
   "cell_type": "markdown",
   "id": "6931a694-b2ca-4724-aa98-077ae8127205",
   "metadata": {},
   "source": [
    "# 변수 num에 10을 더한 값을 저장하고 출력하세요.(복합연산자 사용!)\n",
    "num = 5\n"
   ]
  },
  {
   "cell_type": "code",
   "execution_count": 19,
   "id": "f08ffe7a-72a7-48ab-8027-62f10f471c7a",
   "metadata": {},
   "outputs": [
    {
     "name": "stdout",
     "output_type": "stream",
     "text": [
      "15\n"
     ]
    }
   ],
   "source": [
    "#여기에\n",
    "num = 5\n",
    "num += 10\n",
    "print(num)"
   ]
  },
  {
   "cell_type": "markdown",
   "id": "2ad769ba-02cc-4f64-ab90-9f75d0511a30",
   "metadata": {},
   "source": [
    "# 괄호를 사용하여 10 + 2를 먼저 계산하도록 수정하고 결과를 출력하세요.\n",
    "result = 10 + 2 * 3\n"
   ]
  },
  {
   "cell_type": "code",
   "execution_count": 20,
   "id": "46997b3c-d1e1-4ff3-91e9-54fcf91a5f89",
   "metadata": {},
   "outputs": [
    {
     "name": "stdout",
     "output_type": "stream",
     "text": [
      "36\n"
     ]
    }
   ],
   "source": [
    "#여기에\n",
    "result = (10 + 2) * 3\n",
    "print(result)"
   ]
  },
  {
   "cell_type": "markdown",
   "id": "92c4f14a-5671-4859-885a-328e6d6f62c0",
   "metadata": {},
   "source": [
    "# type()을 이용하여 정수 2의 타입을 확인해보자 --> a=2로 변수 할당 후 type(a) 출력"
   ]
  },
  {
   "cell_type": "code",
   "execution_count": 21,
   "id": "a6c6b183-dbcb-44c0-939a-8b8ee523aec5",
   "metadata": {},
   "outputs": [
    {
     "data": {
      "text/plain": [
       "int"
      ]
     },
     "execution_count": 21,
     "metadata": {},
     "output_type": "execute_result"
    }
   ],
   "source": [
    "#여깅에\n",
    "a = 2\n",
    "type(a)"
   ]
  },
  {
   "cell_type": "markdown",
   "id": "8d2789d3-acf3-41b3-8a5f-fb27eac5a296",
   "metadata": {},
   "source": [
    "# a를 정수형에서 실수형으로 타입을 바꾸고 확인해보자. --> float() 사용하고 type()으로 확인"
   ]
  },
  {
   "cell_type": "code",
   "execution_count": 29,
   "id": "2f2d9f82-d448-4c1a-8eb2-4f026e5c4702",
   "metadata": {},
   "outputs": [
    {
     "data": {
      "text/plain": [
       "float"
      ]
     },
     "execution_count": 29,
     "metadata": {},
     "output_type": "execute_result"
    }
   ],
   "source": [
    "#여기\n",
    "a = float(a)\n",
    "type(a)"
   ]
  },
  {
   "cell_type": "markdown",
   "id": "576cf768-6b99-45c2-b6be-0801c0e94b90",
   "metadata": {},
   "source": [
    "# 29를 5로 나눈 몫과 나머지를 각각 출력하세요.\n"
   ]
  },
  {
   "cell_type": "code",
   "execution_count": 32,
   "id": "92d0cb95-d029-4331-b827-9a9c02b12522",
   "metadata": {},
   "outputs": [
    {
     "name": "stdout",
     "output_type": "stream",
     "text": [
      "몫:  5\n",
      "나머지:  4\n"
     ]
    }
   ],
   "source": [
    "#여기에\n",
    "print(\"몫: \", 29//5)\n",
    "print(\"나머지: \", 29%5)"
   ]
  },
  {
   "cell_type": "markdown",
   "id": "0dc61c08-4165-4e09-b321-67471ec27f19",
   "metadata": {},
   "source": [
    "# 변수 pi에 3.1415926535를 저장하고, 소수점 둘째 자리까지 반올림하여 출력하세요.\n",
    "pi = 3.1415926535\n"
   ]
  },
  {
   "cell_type": "code",
   "execution_count": 25,
   "id": "fc7be8a9-46ae-4f0f-9f1c-55467eb87a2c",
   "metadata": {},
   "outputs": [
    {
     "data": {
      "text/plain": [
       "3.14"
      ]
     },
     "execution_count": 25,
     "metadata": {},
     "output_type": "execute_result"
    }
   ],
   "source": [
    "#여기에\n",
    "pi = 3.1415926535\n",
    "round(pi, 2)"
   ]
  },
  {
   "cell_type": "markdown",
   "id": "069cd5a0-8956-40ee-ad50-e7d753b456e0",
   "metadata": {},
   "source": [
    "# 리스트 문제\n",
    "\n",
    "numbers = [5, 12, 7, 3, 9, 7, 1, 4, 7, 6]\n"
   ]
  },
  {
   "cell_type": "markdown",
   "id": "99dae400-0a47-482e-a9a6-5f1e151677e2",
   "metadata": {},
   "source": [
    "## numbers 리스트에 들어있는 요소의 개수를 출력하세요."
   ]
  },
  {
   "cell_type": "code",
   "execution_count": 27,
   "id": "62dd6477-a472-46b8-890b-f9422709a462",
   "metadata": {},
   "outputs": [
    {
     "data": {
      "text/plain": [
       "10"
      ]
     },
     "execution_count": 27,
     "metadata": {},
     "output_type": "execute_result"
    }
   ],
   "source": [
    "#여기에\n",
    "numbers = [5, 12, 7, 3, 9, 7, 1, 4, 7, 6]\n",
    "len(numbers)"
   ]
  },
  {
   "cell_type": "markdown",
   "id": "274b7f80-9098-4eeb-b44d-104dac009976",
   "metadata": {},
   "source": [
    "## 리스트에서 숫자 7이 몇 번 등장하는지 출력하세요.(count사용)"
   ]
  },
  {
   "cell_type": "code",
   "execution_count": 35,
   "id": "4be31126-7f09-4b2a-8aa6-f195ad8db38c",
   "metadata": {},
   "outputs": [
    {
     "data": {
      "text/plain": [
       "3"
      ]
     },
     "execution_count": 35,
     "metadata": {},
     "output_type": "execute_result"
    }
   ],
   "source": [
    "#여기에\n",
    "numbers.count(7)"
   ]
  },
  {
   "cell_type": "markdown",
   "id": "60bb1078-a572-4fbf-993c-d91232657bcf",
   "metadata": {},
   "source": [
    "## 1.numbers 리스트를 오름차순으로 정렬한 후 출력하세요.\n",
    "## 2.정렬 후 리스트를 내림차순으로 정렬하여 다시 출력하세요."
   ]
  },
  {
   "cell_type": "code",
   "execution_count": 40,
   "id": "35e9914f-12e7-4fd9-87ce-bb5f991688a6",
   "metadata": {},
   "outputs": [
    {
     "name": "stdout",
     "output_type": "stream",
     "text": [
      "[1, 3, 4, 5, 6, 7, 7, 7, 9, 12]\n",
      "[12, 9, 7, 7, 7, 6, 5, 4, 3, 1]\n"
     ]
    }
   ],
   "source": [
    "# 1)\n",
    "numbers.sort()\n",
    "print(numbers)\n",
    "# 2)\n",
    "numbers.sort(reverse=True)\n",
    "print(numbers)"
   ]
  },
  {
   "cell_type": "markdown",
   "id": "3c2ac1b5-b22f-4b1d-911f-b15626fee5ba",
   "metadata": {},
   "source": [
    "## 리스트에서 숫자 9가 위치한 인덱스를 출력하세요."
   ]
  },
  {
   "cell_type": "code",
   "execution_count": 41,
   "id": "c02705a2-8e88-4baf-bd48-8f7c5136ce03",
   "metadata": {},
   "outputs": [
    {
     "data": {
      "text/plain": [
       "4"
      ]
     },
     "execution_count": 41,
     "metadata": {},
     "output_type": "execute_result"
    }
   ],
   "source": [
    "#여기에\n",
    "numbers = [5, 12, 7, 3, 9, 7, 1, 4, 7, 6]\n",
    "numbers.index(9)"
   ]
  },
  {
   "cell_type": "markdown",
   "id": "13148bb4-a0dd-43a2-990d-57371dd218fe",
   "metadata": {},
   "source": [
    "## 1.리스트의 첫 번째 요소를 99로 변경하고 출력하세요.\n",
    "## 2.리스트의 마지막 요소를 0으로 변경하고 출력하세요."
   ]
  },
  {
   "cell_type": "code",
   "execution_count": 43,
   "id": "37e5c9ea-2b14-4b50-b2a3-75d4b61b053a",
   "metadata": {},
   "outputs": [
    {
     "name": "stdout",
     "output_type": "stream",
     "text": [
      "[99, 12, 7, 3, 9, 7, 1, 4, 7, 6]\n",
      "[99, 12, 7, 3, 9, 7, 1, 4, 7, 0]\n"
     ]
    }
   ],
   "source": [
    "#1)\n",
    "numbers[0] = 99\n",
    "print(numbers)\n",
    "#2)\n",
    "numbers[-1] = 0\n",
    "print(numbers)"
   ]
  },
  {
   "cell_type": "markdown",
   "id": "ae683446-f190-469f-a362-30e078587c59",
   "metadata": {},
   "source": [
    "## 인덱스 3 위치에 숫자 100을 삽입하고 출력하세요."
   ]
  },
  {
   "cell_type": "code",
   "execution_count": 45,
   "id": "40f92c21-d196-455b-8e71-64f6ab78e914",
   "metadata": {},
   "outputs": [
    {
     "data": {
      "text/plain": [
       "[5, 12, 7, 100, 3, 9, 7, 1, 4, 7, 6]"
      ]
     },
     "execution_count": 45,
     "metadata": {},
     "output_type": "execute_result"
    }
   ],
   "source": [
    "#여기에\n",
    "numbers = [5, 12, 7, 3, 9, 7, 1, 4, 7, 6]\n",
    "numbers.insert(3, 100)\n",
    "numbers"
   ]
  },
  {
   "cell_type": "markdown",
   "id": "db8f8468-c6fd-480f-83eb-c7706341a6c0",
   "metadata": {},
   "source": [
    "## 1.del을 사용하여 리스트의 두 번째 요소를 삭제하고 출력하세요.\n",
    "## 2.remove를 사용하여 숫자 7을 한 개 삭제하고 출력하세요.\n",
    "## 3.pop을 사용하여 마지막 요소를 꺼내어 출력하고, 변경된 리스트도 출력하세요"
   ]
  },
  {
   "cell_type": "code",
   "execution_count": 49,
   "id": "ebaf1f47-df37-476c-9063-532fb4039f0d",
   "metadata": {},
   "outputs": [
    {
     "name": "stdout",
     "output_type": "stream",
     "text": [
      "[5, 12, 3, 9, 7, 1, 4, 7, 6]\n",
      "[5, 12, 3, 9, 1, 4, 7, 6]\n",
      "[5, 12, 3, 9, 1, 4, 7]\n"
     ]
    }
   ],
   "source": [
    "numbers = [5, 12, 7, 3, 9, 7, 1, 4, 7, 6]\n",
    "#1)\n",
    "del numbers[2]\n",
    "print(numbers)\n",
    "#2)\n",
    "numbers.remove(7)\n",
    "print(numbers)\n",
    "#3)\n",
    "numbers.pop()\n",
    "print(numbers)"
   ]
  },
  {
   "cell_type": "markdown",
   "id": "61da48e1-a318-46b3-840e-50607ccd4101",
   "metadata": {},
   "source": [
    "## del과 remove와 pop의 차이에 대하여 간단히 적어보자."
   ]
  },
  {
   "cell_type": "code",
   "execution_count": 9,
   "id": "3c24e5e9-a2af-449b-9821-dac0e26d1666",
   "metadata": {},
   "outputs": [],
   "source": [
    "# 여기에\n",
    "#del은 n번째 요소 삭제, remove는 n이라는 수를 삭제, pop은 마지막 요소 삭제"
   ]
  },
  {
   "cell_type": "markdown",
   "id": "443669d2-86b9-42ef-9dd9-b583dc1c80df",
   "metadata": {},
   "source": [
    "## 리스트의 순서를 반대로 뒤집고 출력하세요."
   ]
  },
  {
   "cell_type": "code",
   "execution_count": 54,
   "id": "708c8f65-fb3c-460f-a028-5b4ec021b07c",
   "metadata": {},
   "outputs": [
    {
     "name": "stdout",
     "output_type": "stream",
     "text": [
      "[6, 7, 4, 1, 7, 9, 3, 7, 12, 5]\n"
     ]
    }
   ],
   "source": [
    "numbers = [5, 12, 7, 3, 9, 7, 1, 4, 7, 6]\n",
    "#여기에\n",
    "numbers.reverse()\n",
    "print(numbers)"
   ]
  },
  {
   "cell_type": "markdown",
   "id": "c8cafaa4-2bd0-4b53-b0da-34bed28c8e82",
   "metadata": {},
   "source": [
    "## [8, 10, 15] 리스트를 numbers 리스트에 확장하여 추가하고 출력하세요."
   ]
  },
  {
   "cell_type": "code",
   "execution_count": 56,
   "id": "e1a2d841-f78e-4904-810f-014e6c51abbe",
   "metadata": {},
   "outputs": [
    {
     "name": "stdout",
     "output_type": "stream",
     "text": [
      "[5, 12, 7, 3, 9, 7, 1, 4, 7, 6, [8, 10, 15]]\n"
     ]
    }
   ],
   "source": [
    "numbers = [5, 12, 7, 3, 9, 7, 1, 4, 7, 6]\n",
    "#여기에\n",
    "numbers.append([8, 10, 15])\n",
    "print(numbers)"
   ]
  },
  {
   "cell_type": "markdown",
   "id": "7543fe53-181b-4b01-95a3-e8e3eb0caab1",
   "metadata": {},
   "source": [
    "## 1.리스트에서 처음 5개의 요소만 슬라이싱하여 출력하세요.\n",
    "## 2.리스트의 마지막 3개의 요소만 슬라이싱하여 출력하세요.\n",
    "## 3.리스트의 짝수 번째 요소(0, 2, 4, …)만 출력하세요.\n"
   ]
  },
  {
   "cell_type": "code",
   "execution_count": 61,
   "id": "7cef40ff-5646-4934-b826-62616f3a7238",
   "metadata": {},
   "outputs": [
    {
     "name": "stdout",
     "output_type": "stream",
     "text": [
      "[5, 12, 7, 3, 9]\n",
      "[6, 7, 4]\n",
      "[5, 7, 9, 1, 7]\n"
     ]
    }
   ],
   "source": [
    "numbers = [5, 12, 7, 3, 9, 7, 1, 4, 7, 6]\n",
    "#1)\n",
    "a = numbers[:5]\n",
    "print(a)\n",
    "#2)\n",
    "##??? 모지\n",
    "b = numbers[:len(numbers)-4:-1]\n",
    "print(b)\n",
    "#3)\n",
    "c = numbers[::2]\n",
    "print(c)"
   ]
  },
  {
   "cell_type": "markdown",
   "id": "c651953f-4785-4550-89cf-8ab8d99e67f8",
   "metadata": {},
   "source": [
    "##  슈퍼마켓 재고 관리 시스템\n",
    "슈퍼마켓에는 여러 종류의 과일이 있다. 현재 슈퍼마켓의 과일 재고는 다음과 같다.\n",
    "\n",
    "\n",
    "fruits = [\"사과\", \"바나나\", \"포도\", \"오렌지\", \"수박\"]\n",
    "\n",
    "\n",
    "1) 손님이 와서 \"포도\"를 구매했다. 리스트에서 \"포도\"를 삭제하고 출력하세요.\n",
    "\n",
    "2) 새로운 과일 \"망고\"가 입고되었다. 리스트에 추가하고 출력하세요.\n",
    "\n",
    "3) 가게 사장이 과일을 가나다순으로 정리하려고 한다. 정렬해서 출력하세요.\n",
    "\n",
    "4) \"바나나\"가 얼마나 남아 있는지 확인하려고 한다. 리스트에서 \"바나나\"가 몇 개 있는지 출력하세요."
   ]
  },
  {
   "cell_type": "code",
   "execution_count": 68,
   "id": "66077801-aa17-4069-bd38-1bc65f6a25c6",
   "metadata": {},
   "outputs": [
    {
     "name": "stdout",
     "output_type": "stream",
     "text": [
      "['사과', '바나나', '오렌지', '수박']\n",
      "['사과', '바나나', '오렌지', '수박', '망고']\n",
      "['망고', '바나나', '사과', '수박', '오렌지']\n",
      "1\n"
     ]
    }
   ],
   "source": [
    "fruits = [\"사과\", \"바나나\", \"포도\", \"오렌지\", \"수박\"]\n",
    "#1)\n",
    "fruits.remove(\"포도\")\n",
    "print(fruits)\n",
    "#2)\n",
    "fruits.append(\"망고\")\n",
    "print(fruits)\n",
    "#3)\n",
    "fruits.sort()\n",
    "print(fruits)\n",
    "#4)\n",
    "a = fruits.count(\"바나나\")\n",
    "print(a)"
   ]
  }
 ],
 "metadata": {
  "kernelspec": {
   "display_name": "Python 3 (ipykernel)",
   "language": "python",
   "name": "python3"
  },
  "language_info": {
   "codemirror_mode": {
    "name": "ipython",
    "version": 3
   },
   "file_extension": ".py",
   "mimetype": "text/x-python",
   "name": "python",
   "nbconvert_exporter": "python",
   "pygments_lexer": "ipython3",
   "version": "3.11.7"
  }
 },
 "nbformat": 4,
 "nbformat_minor": 5
}
